{
 "cells": [
  {
   "cell_type": "code",
   "execution_count": 5,
   "id": "b3722037-27ea-44c3-9512-8b227ba48da6",
   "metadata": {},
   "outputs": [],
   "source": [
    "import pandas as pd\n",
    "import numpy as np\n",
    "import joblib"
   ]
  },
  {
   "cell_type": "code",
   "execution_count": 7,
   "id": "64cfe376-04fa-4b0d-878f-9065e87f0901",
   "metadata": {},
   "outputs": [],
   "source": [
    "df = pd.read_csv('train.csv')"
   ]
  },
  {
   "cell_type": "code",
   "execution_count": 9,
   "id": "9588a8e0-fb2e-41f2-bef2-ebe8c9f778d7",
   "metadata": {},
   "outputs": [
    {
     "data": {
      "text/html": [
       "<div>\n",
       "<style scoped>\n",
       "    .dataframe tbody tr th:only-of-type {\n",
       "        vertical-align: middle;\n",
       "    }\n",
       "\n",
       "    .dataframe tbody tr th {\n",
       "        vertical-align: top;\n",
       "    }\n",
       "\n",
       "    .dataframe thead th {\n",
       "        text-align: right;\n",
       "    }\n",
       "</style>\n",
       "<table border=\"1\" class=\"dataframe\">\n",
       "  <thead>\n",
       "    <tr style=\"text-align: right;\">\n",
       "      <th></th>\n",
       "      <th>label</th>\n",
       "      <th>email</th>\n",
       "    </tr>\n",
       "  </thead>\n",
       "  <tbody>\n",
       "    <tr>\n",
       "      <th>0</th>\n",
       "      <td>spam</td>\n",
       "      <td>attn i am bulawa mulete jr the son of mr steve...</td>\n",
       "    </tr>\n",
       "    <tr>\n",
       "      <th>1</th>\n",
       "      <td>ham</td>\n",
       "      <td>That depends. How would you like to be treated...</td>\n",
       "    </tr>\n",
       "    <tr>\n",
       "      <th>2</th>\n",
       "      <td>ham</td>\n",
       "      <td>Wen u miss someone, the person is definitely s...</td>\n",
       "    </tr>\n",
       "    <tr>\n",
       "      <th>3</th>\n",
       "      <td>spam</td>\n",
       "      <td>Win the newest “Harry Potter and the Order of ...</td>\n",
       "    </tr>\n",
       "    <tr>\n",
       "      <th>4</th>\n",
       "      <td>ham</td>\n",
       "      <td>Where are you lover ? I need you ...</td>\n",
       "    </tr>\n",
       "  </tbody>\n",
       "</table>\n",
       "</div>"
      ],
      "text/plain": [
       "  label                                              email\n",
       "0  spam  attn i am bulawa mulete jr the son of mr steve...\n",
       "1   ham  That depends. How would you like to be treated...\n",
       "2   ham  Wen u miss someone, the person is definitely s...\n",
       "3  spam  Win the newest “Harry Potter and the Order of ...\n",
       "4   ham               Where are you lover ? I need you ..."
      ]
     },
     "execution_count": 9,
     "metadata": {},
     "output_type": "execute_result"
    }
   ],
   "source": [
    "df.head()"
   ]
  },
  {
   "cell_type": "code",
   "execution_count": 11,
   "id": "93859977-4968-4be2-b364-af764ca213b2",
   "metadata": {},
   "outputs": [
    {
     "name": "stdout",
     "output_type": "stream",
     "text": [
      "<class 'pandas.core.frame.DataFrame'>\n",
      "RangeIndex: 5863 entries, 0 to 5862\n",
      "Data columns (total 2 columns):\n",
      " #   Column  Non-Null Count  Dtype \n",
      "---  ------  --------------  ----- \n",
      " 0   label   5844 non-null   object\n",
      " 1   email   5844 non-null   object\n",
      "dtypes: object(2)\n",
      "memory usage: 91.7+ KB\n"
     ]
    }
   ],
   "source": [
    "df.info()"
   ]
  },
  {
   "cell_type": "code",
   "execution_count": 13,
   "id": "ac1bee1c-fff4-4f9a-80f1-8b3837067c59",
   "metadata": {},
   "outputs": [
    {
     "name": "stdout",
     "output_type": "stream",
     "text": [
      "['spam' 'ham' nan '{\"mode\":\"full\"']\n"
     ]
    }
   ],
   "source": [
    "#смотрим все labels и понимаем что есть какой-то ошибочный\n",
    "unique_labels = df['label'].unique()\n",
    "print(unique_labels)"
   ]
  },
  {
   "cell_type": "code",
   "execution_count": 15,
   "id": "ead1a465-7113-4665-b297-a574b72b9d20",
   "metadata": {},
   "outputs": [
    {
     "name": "stdout",
     "output_type": "stream",
     "text": [
      "label\n",
      "ham               4944\n",
      "spam               899\n",
      "{\"mode\":\"full\"       1\n",
      "Name: count, dtype: int64\n"
     ]
    }
   ],
   "source": [
    "#смотрим общее количество каждого лэйбла и понимаем что у нас будет несбалансированные выборка\n",
    "label_counts = df['label'].value_counts()\n",
    "print(label_counts)"
   ]
  },
  {
   "cell_type": "code",
   "execution_count": 17,
   "id": "f75fdd99-7caa-4444-bda1-61175c15ff01",
   "metadata": {},
   "outputs": [
    {
     "name": "stdout",
     "output_type": "stream",
     "text": [
      "label    19\n",
      "email    19\n",
      "dtype: int64\n"
     ]
    }
   ],
   "source": [
    "#смотрим на строки с пропусками и в следующем чанке удаляем их\n",
    "nan_counts = df.isnull().sum()\n",
    "print(nan_counts)"
   ]
  },
  {
   "cell_type": "code",
   "execution_count": 19,
   "id": "e0e6a876-56ea-45e4-ac0f-b9a4492f128f",
   "metadata": {},
   "outputs": [],
   "source": [
    "df = df.dropna()"
   ]
  },
  {
   "cell_type": "code",
   "execution_count": 21,
   "id": "5fa2c552-14ad-43f5-91ee-5e6ac1e447a8",
   "metadata": {},
   "outputs": [],
   "source": [
    "#удаляем все лэйблы кроме ham и spam\n",
    "df = df[df['label'].isin(['ham', 'spam'])]"
   ]
  },
  {
   "cell_type": "code",
   "execution_count": 23,
   "id": "38e9c913-3827-4017-9d85-eb3fe7a14efd",
   "metadata": {},
   "outputs": [],
   "source": [
    "#загружаем тестовую выбоку и делаем все тоже самое что и с тренеровочной\n",
    "df_test = pd.read_csv('test.csv')"
   ]
  },
  {
   "cell_type": "code",
   "execution_count": 25,
   "id": "6a4cb4d2-9f6f-472e-ac20-6c81e213445c",
   "metadata": {},
   "outputs": [
    {
     "name": "stdout",
     "output_type": "stream",
     "text": [
      "label\n",
      "ham     2467\n",
      "spam     422\n",
      "Name: count, dtype: int64\n"
     ]
    }
   ],
   "source": [
    "label_counts = df_test['label'].value_counts()\n",
    "print(label_counts)"
   ]
  },
  {
   "cell_type": "code",
   "execution_count": 27,
   "id": "62a3c67c-0fc7-45ce-a29a-30a02e94d127",
   "metadata": {},
   "outputs": [
    {
     "name": "stdout",
     "output_type": "stream",
     "text": [
      "['ham' 'spam']\n"
     ]
    }
   ],
   "source": [
    "unique_labels = df_test['label'].unique()\n",
    "print(unique_labels)"
   ]
  },
  {
   "cell_type": "code",
   "execution_count": 29,
   "id": "0f13b64c-4370-4fce-905a-3c2edcc30922",
   "metadata": {},
   "outputs": [
    {
     "name": "stdout",
     "output_type": "stream",
     "text": [
      "label    0\n",
      "email    0\n",
      "dtype: int64\n"
     ]
    }
   ],
   "source": [
    "nan_counts = df_test.isnull().sum()\n",
    "print(nan_counts)"
   ]
  },
  {
   "cell_type": "code",
   "execution_count": 31,
   "id": "24505a76-1ba6-4311-8a7e-62a696b7356e",
   "metadata": {},
   "outputs": [],
   "source": [
    "#переводим лэйблы в числовой формат где spam 1 а ham 0\n",
    "df['label'] = df['label'].replace({'spam': 1.0, 'ham': 0.0}).astype(float)\n",
    "df_test['label'] = df_test['label'].replace({'spam': 1.0, 'ham': 0.0}).astype(float)"
   ]
  },
  {
   "cell_type": "code",
   "execution_count": 33,
   "id": "c72230a5-22fc-4c4a-bec6-5ff4c9f90d14",
   "metadata": {},
   "outputs": [
    {
     "data": {
      "text/plain": [
       "<bound method NDFrame.head of       label                                              email\n",
       "0       1.0  attn i am bulawa mulete jr the son of mr steve...\n",
       "1       0.0  That depends. How would you like to be treated...\n",
       "2       0.0  Wen u miss someone, the person is definitely s...\n",
       "3       1.0  Win the newest “Harry Potter and the Order of ...\n",
       "4       0.0               Where are you lover ? I need you ...\n",
       "...     ...                                                ...\n",
       "5858    0.0  Eek that's a lot of time especially since Amer...\n",
       "5859    0.0  Aight I'll grab something to eat too, text me ...\n",
       "5860    0.0                       I havent lei.. Next mon can?\n",
       "5861    0.0  Ok but tell me half an hr b4 u come i need 2 p...\n",
       "5862    0.0  on wed NUMBER NUMBER NUMBER at NUMBER NUMBER g...\n",
       "\n",
       "[5824 rows x 2 columns]>"
      ]
     },
     "execution_count": 33,
     "metadata": {},
     "output_type": "execute_result"
    }
   ],
   "source": [
    "df.head"
   ]
  },
  {
   "cell_type": "code",
   "execution_count": 35,
   "id": "0d455e36-c8c4-45b4-be65-15460fb6fda9",
   "metadata": {},
   "outputs": [
    {
     "name": "stdout",
     "output_type": "stream",
     "text": [
      "<class 'pandas.core.frame.DataFrame'>\n",
      "Index: 5824 entries, 0 to 5862\n",
      "Data columns (total 2 columns):\n",
      " #   Column  Non-Null Count  Dtype  \n",
      "---  ------  --------------  -----  \n",
      " 0   label   5824 non-null   float64\n",
      " 1   email   5824 non-null   object \n",
      "dtypes: float64(1), object(1)\n",
      "memory usage: 136.5+ KB\n"
     ]
    }
   ],
   "source": [
    "df.info()"
   ]
  },
  {
   "cell_type": "code",
   "execution_count": 39,
   "id": "b1c7e586-7a5c-4f82-8d8f-841d22a858b5",
   "metadata": {
    "scrolled": true
   },
   "outputs": [
    {
     "name": "stderr",
     "output_type": "stream",
     "text": [
      "D:\\test\\myenv\\lib\\site-packages\\tqdm\\auto.py:21: TqdmWarning: IProgress not found. Please update jupyter and ipywidgets. See https://ipywidgets.readthedocs.io/en/stable/user_install.html\n",
      "  from .autonotebook import tqdm as notebook_tqdm\n"
     ]
    }
   ],
   "source": [
    "# загружаем bert для превращения текста в эмбеденги\n",
    "import torch\n",
    "from transformers import BertTokenizer, BertModel\n",
    "\n",
    "tokenizer = BertTokenizer.from_pretrained('bert-base-uncased')\n",
    "model = BertModel.from_pretrained('bert-base-uncased')"
   ]
  },
  {
   "cell_type": "code",
   "execution_count": 41,
   "id": "16610c51-051a-4aa7-8d91-bbbec65477e3",
   "metadata": {},
   "outputs": [
    {
     "name": "stderr",
     "output_type": "stream",
     "text": [
      "Обработка email: 100%|█████████████████████████████████████████████████████████████| 5824/5824 [11:04<00:00,  8.77it/s]\n",
      "Обработка тестовых email: 100%|████████████████████████████████████████████████████| 2889/2889 [05:20<00:00,  9.01it/s]\n"
     ]
    }
   ],
   "source": [
    "#переделываем текст в эмбеденги\n",
    "from tqdm import tqdm  \n",
    "\n",
    "def extract_features(text):\n",
    "    inputs = tokenizer(text, return_tensors='pt', padding=True, truncation=True, max_length=512)\n",
    "    with torch.no_grad():\n",
    "        outputs = model(**inputs)\n",
    "    # Используем представление [CLS] токена\n",
    "    return outputs.last_hidden_state[0][0].numpy()\n",
    "\n",
    "features = np.array([extract_features(text) for text in tqdm(df['email'], desc=\"Обработка email\")])\n",
    "features_test = np.array([extract_features(text) for text in tqdm(df_test['email'], desc=\"Обработка тестовых email\")])"
   ]
  },
  {
   "cell_type": "code",
   "execution_count": 43,
   "id": "2e1b3318-8372-45c0-9c5b-2f1ff0197795",
   "metadata": {},
   "outputs": [
    {
     "data": {
      "text/plain": [
       "(5824, 768)"
      ]
     },
     "execution_count": 43,
     "metadata": {},
     "output_type": "execute_result"
    }
   ],
   "source": [
    "features.shape"
   ]
  },
  {
   "cell_type": "code",
   "execution_count": 45,
   "id": "e760e37b-25e5-4287-8b01-9d08aa785d9c",
   "metadata": {},
   "outputs": [],
   "source": [
    "#сохраним на всякий случай\n",
    "import h5py\n",
    "import numpy as np\n",
    "\n",
    "with h5py.File('data.h5', 'w') as f:\n",
    "    f.create_dataset('features', data=features)\n",
    "    f.create_dataset('label', data=df['label'])\n",
    "    \n",
    "with h5py.File('data_test.h5', 'w') as f:\n",
    "    f.create_dataset('features', data=features_test)\n",
    "    f.create_dataset('label', data=df_test['label'])"
   ]
  },
  {
   "cell_type": "code",
   "execution_count": 47,
   "id": "f958c618-cc73-49ab-aa74-449afe221b26",
   "metadata": {},
   "outputs": [],
   "source": [
    "#формируем тренеровочные и тестовые данные\n",
    "X_train = features\n",
    "y_train = df['label']\n",
    "X_test = features_test\n",
    "y_test  = df_test['label']"
   ]
  },
  {
   "cell_type": "code",
   "execution_count": 51,
   "id": "7cc8e0d9-0da9-41e5-abcd-b21e4a9b7596",
   "metadata": {},
   "outputs": [
    {
     "name": "stderr",
     "output_type": "stream",
     "text": [
      "D:\\test\\myenv\\lib\\site-packages\\sklearn\\linear_model\\_logistic.py:460: ConvergenceWarning: lbfgs failed to converge (status=1):\n",
      "STOP: TOTAL NO. of ITERATIONS REACHED LIMIT.\n",
      "\n",
      "Increase the number of iterations (max_iter) or scale the data as shown in:\n",
      "    https://scikit-learn.org/stable/modules/preprocessing.html\n",
      "Please also refer to the documentation for alternative solver options:\n",
      "    https://scikit-learn.org/stable/modules/linear_model.html#logistic-regression\n",
      "  n_iter_i = _check_optimize_result(\n"
     ]
    },
    {
     "data": {
      "text/html": [
       "<style>#sk-container-id-1 {color: black;}#sk-container-id-1 pre{padding: 0;}#sk-container-id-1 div.sk-toggleable {background-color: white;}#sk-container-id-1 label.sk-toggleable__label {cursor: pointer;display: block;width: 100%;margin-bottom: 0;padding: 0.3em;box-sizing: border-box;text-align: center;}#sk-container-id-1 label.sk-toggleable__label-arrow:before {content: \"▸\";float: left;margin-right: 0.25em;color: #696969;}#sk-container-id-1 label.sk-toggleable__label-arrow:hover:before {color: black;}#sk-container-id-1 div.sk-estimator:hover label.sk-toggleable__label-arrow:before {color: black;}#sk-container-id-1 div.sk-toggleable__content {max-height: 0;max-width: 0;overflow: hidden;text-align: left;background-color: #f0f8ff;}#sk-container-id-1 div.sk-toggleable__content pre {margin: 0.2em;color: black;border-radius: 0.25em;background-color: #f0f8ff;}#sk-container-id-1 input.sk-toggleable__control:checked~div.sk-toggleable__content {max-height: 200px;max-width: 100%;overflow: auto;}#sk-container-id-1 input.sk-toggleable__control:checked~label.sk-toggleable__label-arrow:before {content: \"▾\";}#sk-container-id-1 div.sk-estimator input.sk-toggleable__control:checked~label.sk-toggleable__label {background-color: #d4ebff;}#sk-container-id-1 div.sk-label input.sk-toggleable__control:checked~label.sk-toggleable__label {background-color: #d4ebff;}#sk-container-id-1 input.sk-hidden--visually {border: 0;clip: rect(1px 1px 1px 1px);clip: rect(1px, 1px, 1px, 1px);height: 1px;margin: -1px;overflow: hidden;padding: 0;position: absolute;width: 1px;}#sk-container-id-1 div.sk-estimator {font-family: monospace;background-color: #f0f8ff;border: 1px dotted black;border-radius: 0.25em;box-sizing: border-box;margin-bottom: 0.5em;}#sk-container-id-1 div.sk-estimator:hover {background-color: #d4ebff;}#sk-container-id-1 div.sk-parallel-item::after {content: \"\";width: 100%;border-bottom: 1px solid gray;flex-grow: 1;}#sk-container-id-1 div.sk-label:hover label.sk-toggleable__label {background-color: #d4ebff;}#sk-container-id-1 div.sk-serial::before {content: \"\";position: absolute;border-left: 1px solid gray;box-sizing: border-box;top: 0;bottom: 0;left: 50%;z-index: 0;}#sk-container-id-1 div.sk-serial {display: flex;flex-direction: column;align-items: center;background-color: white;padding-right: 0.2em;padding-left: 0.2em;position: relative;}#sk-container-id-1 div.sk-item {position: relative;z-index: 1;}#sk-container-id-1 div.sk-parallel {display: flex;align-items: stretch;justify-content: center;background-color: white;position: relative;}#sk-container-id-1 div.sk-item::before, #sk-container-id-1 div.sk-parallel-item::before {content: \"\";position: absolute;border-left: 1px solid gray;box-sizing: border-box;top: 0;bottom: 0;left: 50%;z-index: -1;}#sk-container-id-1 div.sk-parallel-item {display: flex;flex-direction: column;z-index: 1;position: relative;background-color: white;}#sk-container-id-1 div.sk-parallel-item:first-child::after {align-self: flex-end;width: 50%;}#sk-container-id-1 div.sk-parallel-item:last-child::after {align-self: flex-start;width: 50%;}#sk-container-id-1 div.sk-parallel-item:only-child::after {width: 0;}#sk-container-id-1 div.sk-dashed-wrapped {border: 1px dashed gray;margin: 0 0.4em 0.5em 0.4em;box-sizing: border-box;padding-bottom: 0.4em;background-color: white;}#sk-container-id-1 div.sk-label label {font-family: monospace;font-weight: bold;display: inline-block;line-height: 1.2em;}#sk-container-id-1 div.sk-label-container {text-align: center;}#sk-container-id-1 div.sk-container {/* jupyter's `normalize.less` sets `[hidden] { display: none; }` but bootstrap.min.css set `[hidden] { display: none !important; }` so we also need the `!important` here to be able to override the default hidden behavior on the sphinx rendered scikit-learn.org. See: https://github.com/scikit-learn/scikit-learn/issues/21755 */display: inline-block !important;position: relative;}#sk-container-id-1 div.sk-text-repr-fallback {display: none;}</style><div id=\"sk-container-id-1\" class=\"sk-top-container\"><div class=\"sk-text-repr-fallback\"><pre>LogisticRegression()</pre><b>In a Jupyter environment, please rerun this cell to show the HTML representation or trust the notebook. <br />On GitHub, the HTML representation is unable to render, please try loading this page with nbviewer.org.</b></div><div class=\"sk-container\" hidden><div class=\"sk-item\"><div class=\"sk-estimator sk-toggleable\"><input class=\"sk-toggleable__control sk-hidden--visually\" id=\"sk-estimator-id-1\" type=\"checkbox\" checked><label for=\"sk-estimator-id-1\" class=\"sk-toggleable__label sk-toggleable__label-arrow\">LogisticRegression</label><div class=\"sk-toggleable__content\"><pre>LogisticRegression()</pre></div></div></div></div></div>"
      ],
      "text/plain": [
       "LogisticRegression()"
      ]
     },
     "execution_count": 51,
     "metadata": {},
     "output_type": "execute_result"
    }
   ],
   "source": [
    "#обучим логрегрессию\n",
    "from sklearn.linear_model import LogisticRegression\n",
    "\n",
    "model = LogisticRegression()\n",
    "model.fit(X_train, y_train)"
   ]
  },
  {
   "cell_type": "code",
   "execution_count": 53,
   "id": "4882c508-3abc-411e-a375-b7a9946cc89d",
   "metadata": {},
   "outputs": [
    {
     "name": "stdout",
     "output_type": "stream",
     "text": [
      "Accuracy: 0.98\n",
      "Precision: 0.97\n",
      "Recall: 0.93\n",
      "F1 Score: 0.95\n"
     ]
    }
   ],
   "source": [
    "#смотрим на метрики(на Accuracy не сильно обращаем внимание тк выборки не сбалансированные) смотрим на F1 и видим что она получилось тоже очень высокой\n",
    "from sklearn.metrics import accuracy_score, f1_score, precision_score, recall_score\n",
    "\n",
    "y_pred = model.predict(X_test)\n",
    "\n",
    "accuracy = accuracy_score(y_test, y_pred)\n",
    "precision = precision_score(y_test, y_pred)\n",
    "recall = recall_score(y_test, y_pred)\n",
    "f1 = f1_score(y_test, y_pred)\n",
    "\n",
    "print(f'Accuracy: {accuracy:.2f}')\n",
    "print(f'Precision: {precision:.2f}')\n",
    "print(f'Recall: {recall:.2f}')\n",
    "print(f'F1 Score: {f1:.2f}')"
   ]
  },
  {
   "cell_type": "code",
   "execution_count": 55,
   "id": "abf0e472-8fdc-4d06-9066-b75788de5b80",
   "metadata": {},
   "outputs": [
    {
     "data": {
      "text/plain": [
       "['logistic_regression_model.pkl']"
      ]
     },
     "execution_count": 55,
     "metadata": {},
     "output_type": "execute_result"
    }
   ],
   "source": [
    "# cохраним на всякий случай логрегрессию\n",
    "joblib.dump(model, 'logistic_regression_model.pkl')"
   ]
  },
  {
   "cell_type": "code",
   "execution_count": 57,
   "id": "f9129b7e-49f2-4528-b243-2d5504017664",
   "metadata": {},
   "outputs": [
    {
     "data": {
      "text/html": [
       "<style>#sk-container-id-2 {color: black;}#sk-container-id-2 pre{padding: 0;}#sk-container-id-2 div.sk-toggleable {background-color: white;}#sk-container-id-2 label.sk-toggleable__label {cursor: pointer;display: block;width: 100%;margin-bottom: 0;padding: 0.3em;box-sizing: border-box;text-align: center;}#sk-container-id-2 label.sk-toggleable__label-arrow:before {content: \"▸\";float: left;margin-right: 0.25em;color: #696969;}#sk-container-id-2 label.sk-toggleable__label-arrow:hover:before {color: black;}#sk-container-id-2 div.sk-estimator:hover label.sk-toggleable__label-arrow:before {color: black;}#sk-container-id-2 div.sk-toggleable__content {max-height: 0;max-width: 0;overflow: hidden;text-align: left;background-color: #f0f8ff;}#sk-container-id-2 div.sk-toggleable__content pre {margin: 0.2em;color: black;border-radius: 0.25em;background-color: #f0f8ff;}#sk-container-id-2 input.sk-toggleable__control:checked~div.sk-toggleable__content {max-height: 200px;max-width: 100%;overflow: auto;}#sk-container-id-2 input.sk-toggleable__control:checked~label.sk-toggleable__label-arrow:before {content: \"▾\";}#sk-container-id-2 div.sk-estimator input.sk-toggleable__control:checked~label.sk-toggleable__label {background-color: #d4ebff;}#sk-container-id-2 div.sk-label input.sk-toggleable__control:checked~label.sk-toggleable__label {background-color: #d4ebff;}#sk-container-id-2 input.sk-hidden--visually {border: 0;clip: rect(1px 1px 1px 1px);clip: rect(1px, 1px, 1px, 1px);height: 1px;margin: -1px;overflow: hidden;padding: 0;position: absolute;width: 1px;}#sk-container-id-2 div.sk-estimator {font-family: monospace;background-color: #f0f8ff;border: 1px dotted black;border-radius: 0.25em;box-sizing: border-box;margin-bottom: 0.5em;}#sk-container-id-2 div.sk-estimator:hover {background-color: #d4ebff;}#sk-container-id-2 div.sk-parallel-item::after {content: \"\";width: 100%;border-bottom: 1px solid gray;flex-grow: 1;}#sk-container-id-2 div.sk-label:hover label.sk-toggleable__label {background-color: #d4ebff;}#sk-container-id-2 div.sk-serial::before {content: \"\";position: absolute;border-left: 1px solid gray;box-sizing: border-box;top: 0;bottom: 0;left: 50%;z-index: 0;}#sk-container-id-2 div.sk-serial {display: flex;flex-direction: column;align-items: center;background-color: white;padding-right: 0.2em;padding-left: 0.2em;position: relative;}#sk-container-id-2 div.sk-item {position: relative;z-index: 1;}#sk-container-id-2 div.sk-parallel {display: flex;align-items: stretch;justify-content: center;background-color: white;position: relative;}#sk-container-id-2 div.sk-item::before, #sk-container-id-2 div.sk-parallel-item::before {content: \"\";position: absolute;border-left: 1px solid gray;box-sizing: border-box;top: 0;bottom: 0;left: 50%;z-index: -1;}#sk-container-id-2 div.sk-parallel-item {display: flex;flex-direction: column;z-index: 1;position: relative;background-color: white;}#sk-container-id-2 div.sk-parallel-item:first-child::after {align-self: flex-end;width: 50%;}#sk-container-id-2 div.sk-parallel-item:last-child::after {align-self: flex-start;width: 50%;}#sk-container-id-2 div.sk-parallel-item:only-child::after {width: 0;}#sk-container-id-2 div.sk-dashed-wrapped {border: 1px dashed gray;margin: 0 0.4em 0.5em 0.4em;box-sizing: border-box;padding-bottom: 0.4em;background-color: white;}#sk-container-id-2 div.sk-label label {font-family: monospace;font-weight: bold;display: inline-block;line-height: 1.2em;}#sk-container-id-2 div.sk-label-container {text-align: center;}#sk-container-id-2 div.sk-container {/* jupyter's `normalize.less` sets `[hidden] { display: none; }` but bootstrap.min.css set `[hidden] { display: none !important; }` so we also need the `!important` here to be able to override the default hidden behavior on the sphinx rendered scikit-learn.org. See: https://github.com/scikit-learn/scikit-learn/issues/21755 */display: inline-block !important;position: relative;}#sk-container-id-2 div.sk-text-repr-fallback {display: none;}</style><div id=\"sk-container-id-2\" class=\"sk-top-container\"><div class=\"sk-text-repr-fallback\"><pre>RandomForestClassifier(random_state=42)</pre><b>In a Jupyter environment, please rerun this cell to show the HTML representation or trust the notebook. <br />On GitHub, the HTML representation is unable to render, please try loading this page with nbviewer.org.</b></div><div class=\"sk-container\" hidden><div class=\"sk-item\"><div class=\"sk-estimator sk-toggleable\"><input class=\"sk-toggleable__control sk-hidden--visually\" id=\"sk-estimator-id-2\" type=\"checkbox\" checked><label for=\"sk-estimator-id-2\" class=\"sk-toggleable__label sk-toggleable__label-arrow\">RandomForestClassifier</label><div class=\"sk-toggleable__content\"><pre>RandomForestClassifier(random_state=42)</pre></div></div></div></div></div>"
      ],
      "text/plain": [
       "RandomForestClassifier(random_state=42)"
      ]
     },
     "execution_count": 57,
     "metadata": {},
     "output_type": "execute_result"
    }
   ],
   "source": [
    "#обучим случайный лес\n",
    "from sklearn.ensemble import RandomForestClassifier\n",
    "\n",
    "model_forest = RandomForestClassifier(n_estimators=100, random_state=42)\n",
    "\n",
    "model_forest.fit(X_train, y_train)"
   ]
  },
  {
   "cell_type": "code",
   "execution_count": 59,
   "id": "48592bb3-b539-464f-8fb9-19282202d919",
   "metadata": {},
   "outputs": [
    {
     "name": "stdout",
     "output_type": "stream",
     "text": [
      "Accuracy: 0.96\n",
      "Precision: 0.98\n",
      "Recall: 0.76\n",
      "F1 Score: 0.86\n"
     ]
    }
   ],
   "source": [
    "#получилось так что recoll низковатой это плохо если нам важно\n",
    "#минимизировать количество пропущенных спам-сообщений. Это критично, если пропуск спама может иметь серьезные последствия.\n",
    "#можно просто лучше настроить случайный лес и тогда получиться улучшить результат\n",
    "from sklearn.metrics import accuracy_score, f1_score, precision_score, recall_score\n",
    "\n",
    "y_pred = model_forest.predict(X_test)\n",
    "\n",
    "accuracy = accuracy_score(y_test, y_pred)\n",
    "precision = precision_score(y_test, y_pred)\n",
    "recall = recall_score(y_test, y_pred)\n",
    "f1 = f1_score(y_test, y_pred)\n",
    "\n",
    "print(f'Accuracy: {accuracy:.2f}')\n",
    "print(f'Precision: {precision:.2f}')\n",
    "print(f'Recall: {recall:.2f}')\n",
    "print(f'F1 Score: {f1:.2f}')"
   ]
  },
  {
   "cell_type": "code",
   "execution_count": 61,
   "id": "7f6c80b6-66b9-4a68-8907-a40143ec6b3c",
   "metadata": {},
   "outputs": [
    {
     "data": {
      "text/plain": [
       "['random_forest_model.pkl']"
      ]
     },
     "execution_count": 61,
     "metadata": {},
     "output_type": "execute_result"
    }
   ],
   "source": [
    "joblib.dump(model_forest, 'random_forest_model.pkl')"
   ]
  },
  {
   "cell_type": "code",
   "execution_count": 65,
   "id": "d590015f-4e8f-4f25-ac06-f11ce673b34a",
   "metadata": {},
   "outputs": [
    {
     "data": {
      "text/html": [
       "<style>#sk-container-id-3 {color: black;}#sk-container-id-3 pre{padding: 0;}#sk-container-id-3 div.sk-toggleable {background-color: white;}#sk-container-id-3 label.sk-toggleable__label {cursor: pointer;display: block;width: 100%;margin-bottom: 0;padding: 0.3em;box-sizing: border-box;text-align: center;}#sk-container-id-3 label.sk-toggleable__label-arrow:before {content: \"▸\";float: left;margin-right: 0.25em;color: #696969;}#sk-container-id-3 label.sk-toggleable__label-arrow:hover:before {color: black;}#sk-container-id-3 div.sk-estimator:hover label.sk-toggleable__label-arrow:before {color: black;}#sk-container-id-3 div.sk-toggleable__content {max-height: 0;max-width: 0;overflow: hidden;text-align: left;background-color: #f0f8ff;}#sk-container-id-3 div.sk-toggleable__content pre {margin: 0.2em;color: black;border-radius: 0.25em;background-color: #f0f8ff;}#sk-container-id-3 input.sk-toggleable__control:checked~div.sk-toggleable__content {max-height: 200px;max-width: 100%;overflow: auto;}#sk-container-id-3 input.sk-toggleable__control:checked~label.sk-toggleable__label-arrow:before {content: \"▾\";}#sk-container-id-3 div.sk-estimator input.sk-toggleable__control:checked~label.sk-toggleable__label {background-color: #d4ebff;}#sk-container-id-3 div.sk-label input.sk-toggleable__control:checked~label.sk-toggleable__label {background-color: #d4ebff;}#sk-container-id-3 input.sk-hidden--visually {border: 0;clip: rect(1px 1px 1px 1px);clip: rect(1px, 1px, 1px, 1px);height: 1px;margin: -1px;overflow: hidden;padding: 0;position: absolute;width: 1px;}#sk-container-id-3 div.sk-estimator {font-family: monospace;background-color: #f0f8ff;border: 1px dotted black;border-radius: 0.25em;box-sizing: border-box;margin-bottom: 0.5em;}#sk-container-id-3 div.sk-estimator:hover {background-color: #d4ebff;}#sk-container-id-3 div.sk-parallel-item::after {content: \"\";width: 100%;border-bottom: 1px solid gray;flex-grow: 1;}#sk-container-id-3 div.sk-label:hover label.sk-toggleable__label {background-color: #d4ebff;}#sk-container-id-3 div.sk-serial::before {content: \"\";position: absolute;border-left: 1px solid gray;box-sizing: border-box;top: 0;bottom: 0;left: 50%;z-index: 0;}#sk-container-id-3 div.sk-serial {display: flex;flex-direction: column;align-items: center;background-color: white;padding-right: 0.2em;padding-left: 0.2em;position: relative;}#sk-container-id-3 div.sk-item {position: relative;z-index: 1;}#sk-container-id-3 div.sk-parallel {display: flex;align-items: stretch;justify-content: center;background-color: white;position: relative;}#sk-container-id-3 div.sk-item::before, #sk-container-id-3 div.sk-parallel-item::before {content: \"\";position: absolute;border-left: 1px solid gray;box-sizing: border-box;top: 0;bottom: 0;left: 50%;z-index: -1;}#sk-container-id-3 div.sk-parallel-item {display: flex;flex-direction: column;z-index: 1;position: relative;background-color: white;}#sk-container-id-3 div.sk-parallel-item:first-child::after {align-self: flex-end;width: 50%;}#sk-container-id-3 div.sk-parallel-item:last-child::after {align-self: flex-start;width: 50%;}#sk-container-id-3 div.sk-parallel-item:only-child::after {width: 0;}#sk-container-id-3 div.sk-dashed-wrapped {border: 1px dashed gray;margin: 0 0.4em 0.5em 0.4em;box-sizing: border-box;padding-bottom: 0.4em;background-color: white;}#sk-container-id-3 div.sk-label label {font-family: monospace;font-weight: bold;display: inline-block;line-height: 1.2em;}#sk-container-id-3 div.sk-label-container {text-align: center;}#sk-container-id-3 div.sk-container {/* jupyter's `normalize.less` sets `[hidden] { display: none; }` but bootstrap.min.css set `[hidden] { display: none !important; }` so we also need the `!important` here to be able to override the default hidden behavior on the sphinx rendered scikit-learn.org. See: https://github.com/scikit-learn/scikit-learn/issues/21755 */display: inline-block !important;position: relative;}#sk-container-id-3 div.sk-text-repr-fallback {display: none;}</style><div id=\"sk-container-id-3\" class=\"sk-top-container\"><div class=\"sk-text-repr-fallback\"><pre>XGBClassifier(base_score=None, booster=None, callbacks=None,\n",
       "              colsample_bylevel=None, colsample_bynode=None,\n",
       "              colsample_bytree=None, device=None, early_stopping_rounds=None,\n",
       "              enable_categorical=False, eval_metric=None, feature_types=None,\n",
       "              gamma=None, grow_policy=None, importance_type=None,\n",
       "              interaction_constraints=None, learning_rate=0.1, max_bin=None,\n",
       "              max_cat_threshold=None, max_cat_to_onehot=None,\n",
       "              max_delta_step=None, max_depth=3, max_leaves=None,\n",
       "              min_child_weight=None, missing=nan, monotone_constraints=None,\n",
       "              multi_strategy=None, n_estimators=100, n_jobs=None,\n",
       "              num_parallel_tree=None, random_state=None, ...)</pre><b>In a Jupyter environment, please rerun this cell to show the HTML representation or trust the notebook. <br />On GitHub, the HTML representation is unable to render, please try loading this page with nbviewer.org.</b></div><div class=\"sk-container\" hidden><div class=\"sk-item\"><div class=\"sk-estimator sk-toggleable\"><input class=\"sk-toggleable__control sk-hidden--visually\" id=\"sk-estimator-id-3\" type=\"checkbox\" checked><label for=\"sk-estimator-id-3\" class=\"sk-toggleable__label sk-toggleable__label-arrow\">XGBClassifier</label><div class=\"sk-toggleable__content\"><pre>XGBClassifier(base_score=None, booster=None, callbacks=None,\n",
       "              colsample_bylevel=None, colsample_bynode=None,\n",
       "              colsample_bytree=None, device=None, early_stopping_rounds=None,\n",
       "              enable_categorical=False, eval_metric=None, feature_types=None,\n",
       "              gamma=None, grow_policy=None, importance_type=None,\n",
       "              interaction_constraints=None, learning_rate=0.1, max_bin=None,\n",
       "              max_cat_threshold=None, max_cat_to_onehot=None,\n",
       "              max_delta_step=None, max_depth=3, max_leaves=None,\n",
       "              min_child_weight=None, missing=nan, monotone_constraints=None,\n",
       "              multi_strategy=None, n_estimators=100, n_jobs=None,\n",
       "              num_parallel_tree=None, random_state=None, ...)</pre></div></div></div></div></div>"
      ],
      "text/plain": [
       "XGBClassifier(base_score=None, booster=None, callbacks=None,\n",
       "              colsample_bylevel=None, colsample_bynode=None,\n",
       "              colsample_bytree=None, device=None, early_stopping_rounds=None,\n",
       "              enable_categorical=False, eval_metric=None, feature_types=None,\n",
       "              gamma=None, grow_policy=None, importance_type=None,\n",
       "              interaction_constraints=None, learning_rate=0.1, max_bin=None,\n",
       "              max_cat_threshold=None, max_cat_to_onehot=None,\n",
       "              max_delta_step=None, max_depth=3, max_leaves=None,\n",
       "              min_child_weight=None, missing=nan, monotone_constraints=None,\n",
       "              multi_strategy=None, n_estimators=100, n_jobs=None,\n",
       "              num_parallel_tree=None, random_state=None, ...)"
      ]
     },
     "execution_count": 65,
     "metadata": {},
     "output_type": "execute_result"
    }
   ],
   "source": [
    "#обучим градиентный бустинг\n",
    "from xgboost import XGBClassifier\n",
    "\n",
    "model_gradboosting = XGBClassifier(n_estimators=100, learning_rate=0.1, max_depth=3)\n",
    "model_gradboosting.fit(X_train, y_train)"
   ]
  },
  {
   "cell_type": "code",
   "execution_count": 67,
   "id": "5b2c98d6-f8af-4bfa-b059-d6ccc018818c",
   "metadata": {},
   "outputs": [
    {
     "name": "stdout",
     "output_type": "stream",
     "text": [
      "Accuracy: 0.97\n",
      "Precision: 0.96\n",
      "Recall: 0.86\n",
      "F1 Score: 0.90\n"
     ]
    }
   ],
   "source": [
    "#тут такая же ситуация, что и со случайным лесом, но лучше. Чтобы улучшить результат надо более тонко настроить модель\n",
    "from sklearn.metrics import accuracy_score, f1_score, precision_score, recall_score\n",
    "\n",
    "y_pred = model_gradboosting.predict(X_test)\n",
    "\n",
    "accuracy = accuracy_score(y_test, y_pred)\n",
    "precision = precision_score(y_test, y_pred)\n",
    "recall = recall_score(y_test, y_pred)\n",
    "f1 = f1_score(y_test, y_pred)\n",
    "\n",
    "print(f'Accuracy: {accuracy:.2f}')\n",
    "print(f'Precision: {precision:.2f}')\n",
    "print(f'Recall: {recall:.2f}')\n",
    "print(f'F1 Score: {f1:.2f}')"
   ]
  },
  {
   "cell_type": "code",
   "execution_count": 69,
   "id": "06f7fe2c-8e72-4205-b605-473e99125888",
   "metadata": {},
   "outputs": [
    {
     "data": {
      "text/plain": [
       "['XGBClassifier.pkl']"
      ]
     },
     "execution_count": 69,
     "metadata": {},
     "output_type": "execute_result"
    }
   ],
   "source": [
    "joblib.dump(model_gradboosting, 'XGBClassifier.pkl')"
   ]
  },
  {
   "cell_type": "code",
   "execution_count": 71,
   "id": "ec764f44-670d-4555-b6cf-b3cdfbb30294",
   "metadata": {},
   "outputs": [],
   "source": [
    "#решил обучить линейный перцептрон. Тут представлена архитектура  \n",
    "import torch\n",
    "import torch.nn as nn\n",
    "from torch.utils.data import Dataset, DataLoader\n",
    "from torch.utils.data import random_split\n",
    "from tqdm import tqdm\n",
    "from sklearn.model_selection import StratifiedKFold\n",
    "from torch.utils.data import Dataset, DataLoader, Subset\n",
    "\n",
    "class MyNN(nn.Module):\n",
    "    def __init__(self, input_dim, output_dim):\n",
    "        super(MyNN, self).__init__()\n",
    "        self.layer_1 = nn.Linear(input_dim, 2 * input_dim)  # Первый скрытый слой, в 2 раза больше входного\n",
    "        self.relu = nn.ReLU()\n",
    "        \n",
    "        self.layer_2 = nn.Linear(2 * input_dim, input_dim)  # Второй скрытый слой, размер 768\n",
    "        \n",
    "        self.layer_3 = nn.Linear(input_dim, output_dim, bias=False)  # Последний слой без смещения\n",
    "\n",
    "    def forward(self, x):\n",
    "        x = self.layer_1(x)\n",
    "        x = self.relu(x)\n",
    "        \n",
    "        x = self.layer_2(x)\n",
    "        x = self.relu(x)\n",
    "        \n",
    "        x = self.layer_3(x)\n",
    "        \n",
    "        return x\n",
    "\n",
    "model = MyNN(768, 1)"
   ]
  },
  {
   "cell_type": "code",
   "execution_count": 73,
   "id": "b931ef7d-8297-46a3-b46d-7bf51b6acfe8",
   "metadata": {},
   "outputs": [],
   "source": [
    "#класс для датасета\n",
    "class TextEmbeddingDataset(Dataset):\n",
    "    def __init__(self, embeddings, labels):\n",
    "        self.embeddings = torch.tensor(embeddings, dtype=torch.float)\n",
    "        self.labels = torch.tensor(labels, dtype=torch.float)\n",
    "    \n",
    "    def __len__(self):\n",
    "        return len(self.embeddings)\n",
    "    \n",
    "    def __getitem__(self, idx):\n",
    "        return self.embeddings[idx], self.labels[idx]"
   ]
  },
  {
   "cell_type": "code",
   "execution_count": 75,
   "id": "d1a025e7-7b0f-4430-9baf-6968a136f248",
   "metadata": {},
   "outputs": [],
   "source": [
    "dataset = TextEmbeddingDataset(X_train, y_train)"
   ]
  },
  {
   "cell_type": "code",
   "execution_count": 77,
   "id": "ff83dc8a-1dd2-431b-9893-14d2348f79c2",
   "metadata": {},
   "outputs": [],
   "source": [
    "#тк выборка не сбалансированная будем использовать кросс валидацию на 5 фолдлов \n",
    "skf = StratifiedKFold(n_splits=5, shuffle=True, random_state=42)"
   ]
  },
  {
   "cell_type": "code",
   "execution_count": 79,
   "id": "d2535f51-45bd-47ba-a4cf-1eb1882b9b7b",
   "metadata": {},
   "outputs": [],
   "source": [
    "#определяем функцию потерь и оптимизатор\n",
    "loss_model = nn.BCEWithLogitsLoss()\n",
    "opt=torch.optim.Adam(model.parameters(),lr=0.001)"
   ]
  },
  {
   "cell_type": "code",
   "execution_count": 81,
   "id": "8cc6af7c-33ce-49e3-b8ba-083f1b8e556a",
   "metadata": {},
   "outputs": [
    {
     "name": "stdout",
     "output_type": "stream",
     "text": [
      "Fold 1/5\n"
     ]
    },
    {
     "name": "stderr",
     "output_type": "stream",
     "text": [
      "                                                                                                                       \r"
     ]
    },
    {
     "name": "stdout",
     "output_type": "stream",
     "text": [
      "Epoch[1/10] train_loss=0.1598 train_acc=0.9386 val_loss=0.0792 val_acc=0.9760 lr=0.0010\n"
     ]
    },
    {
     "name": "stderr",
     "output_type": "stream",
     "text": [
      "                                                                                                                       \r"
     ]
    },
    {
     "name": "stdout",
     "output_type": "stream",
     "text": [
      "Epoch[2/10] train_loss=0.0642 train_acc=0.9794 val_loss=0.0641 val_acc=0.9794 lr=0.0010\n"
     ]
    },
    {
     "name": "stderr",
     "output_type": "stream",
     "text": [
      "                                                                                                                       \r"
     ]
    },
    {
     "name": "stdout",
     "output_type": "stream",
     "text": [
      "Epoch[3/10] train_loss=0.0530 train_acc=0.9835 val_loss=0.0538 val_acc=0.9837 lr=0.0010\n"
     ]
    },
    {
     "name": "stderr",
     "output_type": "stream",
     "text": [
      "                                                                                                                       \r"
     ]
    },
    {
     "name": "stdout",
     "output_type": "stream",
     "text": [
      "Epoch[4/10] train_loss=0.0444 train_acc=0.9863 val_loss=0.0586 val_acc=0.9803 lr=0.0010\n"
     ]
    },
    {
     "name": "stderr",
     "output_type": "stream",
     "text": [
      "                                                                                                                       \r"
     ]
    },
    {
     "name": "stdout",
     "output_type": "stream",
     "text": [
      "Epoch[5/10] train_loss=0.0317 train_acc=0.9912 val_loss=0.0608 val_acc=0.9828 lr=0.0010\n"
     ]
    },
    {
     "name": "stderr",
     "output_type": "stream",
     "text": [
      "                                                                                                                       \r"
     ]
    },
    {
     "name": "stdout",
     "output_type": "stream",
     "text": [
      "Epoch[6/10] train_loss=0.0320 train_acc=0.9906 val_loss=0.0472 val_acc=0.9828 lr=0.0010\n"
     ]
    },
    {
     "name": "stderr",
     "output_type": "stream",
     "text": [
      "                                                                                                                       \r"
     ]
    },
    {
     "name": "stdout",
     "output_type": "stream",
     "text": [
      "Epoch[7/10] train_loss=0.0256 train_acc=0.9927 val_loss=0.0607 val_acc=0.9854 lr=0.0010\n"
     ]
    },
    {
     "name": "stderr",
     "output_type": "stream",
     "text": [
      "                                                                                                                       \r"
     ]
    },
    {
     "name": "stdout",
     "output_type": "stream",
     "text": [
      "Epoch[8/10] train_loss=0.0209 train_acc=0.9933 val_loss=0.0718 val_acc=0.9785 lr=0.0010\n"
     ]
    },
    {
     "name": "stderr",
     "output_type": "stream",
     "text": [
      "                                                                                                                       \r"
     ]
    },
    {
     "name": "stdout",
     "output_type": "stream",
     "text": [
      "Epoch[9/10] train_loss=0.0291 train_acc=0.9899 val_loss=0.0708 val_acc=0.9845 lr=0.0010\n"
     ]
    },
    {
     "name": "stderr",
     "output_type": "stream",
     "text": [
      "                                                                                                                       \r"
     ]
    },
    {
     "name": "stdout",
     "output_type": "stream",
     "text": [
      "Epoch[10/10] train_loss=0.0193 train_acc=0.9923 val_loss=0.0608 val_acc=0.9863 lr=0.0010\n",
      "Fold 2/5\n"
     ]
    },
    {
     "name": "stderr",
     "output_type": "stream",
     "text": [
      "                                                                                                                       \r"
     ]
    },
    {
     "name": "stdout",
     "output_type": "stream",
     "text": [
      "Epoch[1/10] train_loss=0.0295 train_acc=0.9908 val_loss=0.0136 val_acc=0.9957 lr=0.0010\n"
     ]
    },
    {
     "name": "stderr",
     "output_type": "stream",
     "text": [
      "                                                                                                                       \r"
     ]
    },
    {
     "name": "stdout",
     "output_type": "stream",
     "text": [
      "Epoch[2/10] train_loss=0.0229 train_acc=0.9936 val_loss=0.0147 val_acc=0.9974 lr=0.0010\n"
     ]
    },
    {
     "name": "stderr",
     "output_type": "stream",
     "text": [
      "                                                                                                                       \r"
     ]
    },
    {
     "name": "stdout",
     "output_type": "stream",
     "text": [
      "Epoch[3/10] train_loss=0.0185 train_acc=0.9938 val_loss=0.0191 val_acc=0.9940 lr=0.0010\n"
     ]
    },
    {
     "name": "stderr",
     "output_type": "stream",
     "text": [
      "                                                                                                                       \r"
     ]
    },
    {
     "name": "stdout",
     "output_type": "stream",
     "text": [
      "Epoch[4/10] train_loss=0.0125 train_acc=0.9957 val_loss=0.0242 val_acc=0.9906 lr=0.0010\n"
     ]
    },
    {
     "name": "stderr",
     "output_type": "stream",
     "text": [
      "                                                                                                                       \r"
     ]
    },
    {
     "name": "stdout",
     "output_type": "stream",
     "text": [
      "Epoch[5/10] train_loss=0.0127 train_acc=0.9948 val_loss=0.0406 val_acc=0.9888 lr=0.0010\n"
     ]
    },
    {
     "name": "stderr",
     "output_type": "stream",
     "text": [
      "                                                                                                                       \r"
     ]
    },
    {
     "name": "stdout",
     "output_type": "stream",
     "text": [
      "Epoch[6/10] train_loss=0.0113 train_acc=0.9957 val_loss=0.0292 val_acc=0.9931 lr=0.0010\n"
     ]
    },
    {
     "name": "stderr",
     "output_type": "stream",
     "text": [
      "                                                                                                                       \r"
     ]
    },
    {
     "name": "stdout",
     "output_type": "stream",
     "text": [
      "Epoch[7/10] train_loss=0.0107 train_acc=0.9951 val_loss=0.0280 val_acc=0.9914 lr=0.0010\n"
     ]
    },
    {
     "name": "stderr",
     "output_type": "stream",
     "text": [
      "                                                                                                                       \r"
     ]
    },
    {
     "name": "stdout",
     "output_type": "stream",
     "text": [
      "Epoch[8/10] train_loss=0.0082 train_acc=0.9968 val_loss=0.0273 val_acc=0.9931 lr=0.0010\n"
     ]
    },
    {
     "name": "stderr",
     "output_type": "stream",
     "text": [
      "                                                                                                                       \r"
     ]
    },
    {
     "name": "stdout",
     "output_type": "stream",
     "text": [
      "Epoch[9/10] train_loss=0.0106 train_acc=0.9948 val_loss=0.0293 val_acc=0.9940 lr=0.0010\n"
     ]
    },
    {
     "name": "stderr",
     "output_type": "stream",
     "text": [
      "                                                                                                                       \r"
     ]
    },
    {
     "name": "stdout",
     "output_type": "stream",
     "text": [
      "Epoch[10/10] train_loss=0.0037 train_acc=0.9985 val_loss=0.0284 val_acc=0.9931 lr=0.0010\n",
      "Fold 3/5\n"
     ]
    },
    {
     "name": "stderr",
     "output_type": "stream",
     "text": [
      "                                                                                                                       \r"
     ]
    },
    {
     "name": "stdout",
     "output_type": "stream",
     "text": [
      "Epoch[1/10] train_loss=0.0172 train_acc=0.9946 val_loss=0.0109 val_acc=0.9966 lr=0.0010\n"
     ]
    },
    {
     "name": "stderr",
     "output_type": "stream",
     "text": [
      "                                                                                                                       \r"
     ]
    },
    {
     "name": "stdout",
     "output_type": "stream",
     "text": [
      "Epoch[2/10] train_loss=0.0063 train_acc=0.9987 val_loss=0.0057 val_acc=0.9983 lr=0.0010\n"
     ]
    },
    {
     "name": "stderr",
     "output_type": "stream",
     "text": [
      "                                                                                                                       \r"
     ]
    },
    {
     "name": "stdout",
     "output_type": "stream",
     "text": [
      "Epoch[3/10] train_loss=0.0031 train_acc=0.9991 val_loss=0.0054 val_acc=0.9983 lr=0.0010\n"
     ]
    },
    {
     "name": "stderr",
     "output_type": "stream",
     "text": [
      "                                                                                                                       \r"
     ]
    },
    {
     "name": "stdout",
     "output_type": "stream",
     "text": [
      "Epoch[4/10] train_loss=0.0035 train_acc=0.9994 val_loss=0.0074 val_acc=0.9983 lr=0.0010\n"
     ]
    },
    {
     "name": "stderr",
     "output_type": "stream",
     "text": [
      "                                                                                                                       \r"
     ]
    },
    {
     "name": "stdout",
     "output_type": "stream",
     "text": [
      "Epoch[5/10] train_loss=0.0019 train_acc=0.9989 val_loss=0.0095 val_acc=0.9966 lr=0.0010\n"
     ]
    },
    {
     "name": "stderr",
     "output_type": "stream",
     "text": [
      "                                                                                                                       \r"
     ]
    },
    {
     "name": "stdout",
     "output_type": "stream",
     "text": [
      "Epoch[6/10] train_loss=0.0017 train_acc=0.9996 val_loss=0.0075 val_acc=0.9974 lr=0.0010\n"
     ]
    },
    {
     "name": "stderr",
     "output_type": "stream",
     "text": [
      "                                                                                                                       \r"
     ]
    },
    {
     "name": "stdout",
     "output_type": "stream",
     "text": [
      "Epoch[7/10] train_loss=0.0022 train_acc=0.9994 val_loss=0.0104 val_acc=0.9974 lr=0.0010\n"
     ]
    },
    {
     "name": "stderr",
     "output_type": "stream",
     "text": [
      "                                                                                                                       \r"
     ]
    },
    {
     "name": "stdout",
     "output_type": "stream",
     "text": [
      "Epoch[8/10] train_loss=0.0014 train_acc=0.9996 val_loss=0.0087 val_acc=0.9974 lr=0.0010\n"
     ]
    },
    {
     "name": "stderr",
     "output_type": "stream",
     "text": [
      "                                                                                                                       \r"
     ]
    },
    {
     "name": "stdout",
     "output_type": "stream",
     "text": [
      "Epoch[9/10] train_loss=0.0013 train_acc=0.9994 val_loss=0.0113 val_acc=0.9966 lr=0.0010\n"
     ]
    },
    {
     "name": "stderr",
     "output_type": "stream",
     "text": [
      "                                                                                                                       \r"
     ]
    },
    {
     "name": "stdout",
     "output_type": "stream",
     "text": [
      "Epoch[10/10] train_loss=0.0025 train_acc=0.9991 val_loss=0.0114 val_acc=0.9974 lr=0.0010\n",
      "Fold 4/5\n"
     ]
    },
    {
     "name": "stderr",
     "output_type": "stream",
     "text": [
      "                                                                                                                       \r"
     ]
    },
    {
     "name": "stdout",
     "output_type": "stream",
     "text": [
      "Epoch[1/10] train_loss=0.0097 train_acc=0.9968 val_loss=0.0372 val_acc=0.9803 lr=0.0010\n"
     ]
    },
    {
     "name": "stderr",
     "output_type": "stream",
     "text": [
      "                                                                                                                       \r"
     ]
    },
    {
     "name": "stdout",
     "output_type": "stream",
     "text": [
      "Epoch[2/10] train_loss=0.0239 train_acc=0.9903 val_loss=0.0054 val_acc=0.9974 lr=0.0010\n"
     ]
    },
    {
     "name": "stderr",
     "output_type": "stream",
     "text": [
      "                                                                                                                       \r"
     ]
    },
    {
     "name": "stdout",
     "output_type": "stream",
     "text": [
      "Epoch[3/10] train_loss=0.0125 train_acc=0.9957 val_loss=0.0270 val_acc=0.9863 lr=0.0010\n"
     ]
    },
    {
     "name": "stderr",
     "output_type": "stream",
     "text": [
      "                                                                                                                       \r"
     ]
    },
    {
     "name": "stdout",
     "output_type": "stream",
     "text": [
      "Epoch[4/10] train_loss=0.0063 train_acc=0.9976 val_loss=0.0108 val_acc=0.9966 lr=0.0010\n"
     ]
    },
    {
     "name": "stderr",
     "output_type": "stream",
     "text": [
      "                                                                                                                       \r"
     ]
    },
    {
     "name": "stdout",
     "output_type": "stream",
     "text": [
      "Epoch[5/10] train_loss=0.0050 train_acc=0.9976 val_loss=0.0130 val_acc=0.9948 lr=0.0010\n"
     ]
    },
    {
     "name": "stderr",
     "output_type": "stream",
     "text": [
      "                                                                                                                       \r"
     ]
    },
    {
     "name": "stdout",
     "output_type": "stream",
     "text": [
      "Epoch[6/10] train_loss=0.0046 train_acc=0.9983 val_loss=0.0372 val_acc=0.9880 lr=0.0010\n"
     ]
    },
    {
     "name": "stderr",
     "output_type": "stream",
     "text": [
      "                                                                                                                       \r"
     ]
    },
    {
     "name": "stdout",
     "output_type": "stream",
     "text": [
      "Epoch[7/10] train_loss=0.0039 train_acc=0.9989 val_loss=0.0156 val_acc=0.9957 lr=0.0010\n"
     ]
    },
    {
     "name": "stderr",
     "output_type": "stream",
     "text": [
      "                                                                                                                       \r"
     ]
    },
    {
     "name": "stdout",
     "output_type": "stream",
     "text": [
      "Epoch[8/10] train_loss=0.0022 train_acc=0.9991 val_loss=0.0169 val_acc=0.9948 lr=0.0010\n"
     ]
    },
    {
     "name": "stderr",
     "output_type": "stream",
     "text": [
      "                                                                                                                       \r"
     ]
    },
    {
     "name": "stdout",
     "output_type": "stream",
     "text": [
      "Epoch[9/10] train_loss=0.0014 train_acc=0.9994 val_loss=0.0164 val_acc=0.9948 lr=0.0010\n"
     ]
    },
    {
     "name": "stderr",
     "output_type": "stream",
     "text": [
      "                                                                                                                       \r"
     ]
    },
    {
     "name": "stdout",
     "output_type": "stream",
     "text": [
      "Epoch[10/10] train_loss=0.0008 train_acc=0.9998 val_loss=0.0205 val_acc=0.9957 lr=0.0010\n",
      "Fold 5/5\n"
     ]
    },
    {
     "name": "stderr",
     "output_type": "stream",
     "text": [
      "                                                                                                                       \r"
     ]
    },
    {
     "name": "stdout",
     "output_type": "stream",
     "text": [
      "Epoch[1/10] train_loss=0.0067 train_acc=0.9979 val_loss=0.0006 val_acc=1.0000 lr=0.0010\n"
     ]
    },
    {
     "name": "stderr",
     "output_type": "stream",
     "text": [
      "                                                                                                                       \r"
     ]
    },
    {
     "name": "stdout",
     "output_type": "stream",
     "text": [
      "Epoch[2/10] train_loss=0.0070 train_acc=0.9979 val_loss=0.0034 val_acc=0.9991 lr=0.0010\n"
     ]
    },
    {
     "name": "stderr",
     "output_type": "stream",
     "text": [
      "                                                                                                                       \r"
     ]
    },
    {
     "name": "stdout",
     "output_type": "stream",
     "text": [
      "Epoch[3/10] train_loss=0.0119 train_acc=0.9961 val_loss=0.0038 val_acc=0.9991 lr=0.0010\n"
     ]
    },
    {
     "name": "stderr",
     "output_type": "stream",
     "text": [
      "                                                                                                                       \r"
     ]
    },
    {
     "name": "stdout",
     "output_type": "stream",
     "text": [
      "Epoch[4/10] train_loss=0.0140 train_acc=0.9946 val_loss=0.0408 val_acc=0.9802 lr=0.0010\n"
     ]
    },
    {
     "name": "stderr",
     "output_type": "stream",
     "text": [
      "                                                                                                                       \r"
     ]
    },
    {
     "name": "stdout",
     "output_type": "stream",
     "text": [
      "Epoch[5/10] train_loss=0.0138 train_acc=0.9957 val_loss=0.0013 val_acc=0.9991 lr=0.0010\n"
     ]
    },
    {
     "name": "stderr",
     "output_type": "stream",
     "text": [
      "                                                                                                                       \r"
     ]
    },
    {
     "name": "stdout",
     "output_type": "stream",
     "text": [
      "Epoch[6/10] train_loss=0.0023 train_acc=0.9991 val_loss=0.0008 val_acc=1.0000 lr=0.0010\n"
     ]
    },
    {
     "name": "stderr",
     "output_type": "stream",
     "text": [
      "                                                                                                                       \r"
     ]
    },
    {
     "name": "stdout",
     "output_type": "stream",
     "text": [
      "Epoch[7/10] train_loss=0.0013 train_acc=0.9991 val_loss=0.0007 val_acc=1.0000 lr=0.0010\n"
     ]
    },
    {
     "name": "stderr",
     "output_type": "stream",
     "text": [
      "                                                                                                                       \r"
     ]
    },
    {
     "name": "stdout",
     "output_type": "stream",
     "text": [
      "Epoch[8/10] train_loss=0.0011 train_acc=0.9987 val_loss=0.0006 val_acc=1.0000 lr=0.0010\n"
     ]
    },
    {
     "name": "stderr",
     "output_type": "stream",
     "text": [
      "                                                                                                                       \r"
     ]
    },
    {
     "name": "stdout",
     "output_type": "stream",
     "text": [
      "Epoch[9/10] train_loss=0.0011 train_acc=0.9991 val_loss=0.0006 val_acc=1.0000 lr=0.0010\n"
     ]
    },
    {
     "name": "stderr",
     "output_type": "stream",
     "text": [
      "                                                                                                                       \r"
     ]
    },
    {
     "name": "stdout",
     "output_type": "stream",
     "text": [
      "Epoch[10/10] train_loss=0.0010 train_acc=0.9994 val_loss=0.0007 val_acc=0.9991 lr=0.0010\n"
     ]
    }
   ],
   "source": [
    "EPOCHS = 10\n",
    "threshold = 0.5\n",
    "\n",
    "train_loss = []\n",
    "train_acc = []\n",
    "val_loss = []\n",
    "val_acc = []\n",
    "\n",
    "for fold, (train_idx, val_idx) in enumerate(skf.split(X_train, y_train)):\n",
    "    print(f\"Fold {fold + 1}/{skf.n_splits}\")\n",
    "    \n",
    "    # Создаем DataLoader для текущей эпохи\n",
    "    train_subset = Subset(dataset, train_idx)\n",
    "    val_subset = Subset(dataset, val_idx)\n",
    "    \n",
    "    train_loader = DataLoader(train_subset, batch_size=32, shuffle=True)\n",
    "    val_loader = DataLoader(val_subset, batch_size=32, shuffle=False)\n",
    "\n",
    "    lr_scheduler = torch.optim.lr_scheduler.ReduceLROnPlateau(opt, mode='min', factor=0.1, patience=10)\n",
    "    #проход по тренеровочным данным и подсчет метрик\n",
    "    for epoch in range(EPOCHS):\n",
    "        model.train()\n",
    "        running_train_loss = []\n",
    "        true_answer = 0\n",
    "        train_loop = tqdm(train_loader, leave=False)\n",
    "        for x, targets in train_loop:\n",
    "            x, targets = x.to(dtype=torch.float32), targets.to(dtype=torch.float32)\n",
    "            pred = model(x)\n",
    "            loss = loss_model(pred.squeeze(), targets) \n",
    "            opt.zero_grad()\n",
    "            loss.backward()\n",
    "            opt.step()\n",
    "            \n",
    "            running_train_loss.append(loss.item())\n",
    "            mean_train_loss = sum(running_train_loss) / len(running_train_loss)\n",
    "            train_loop.set_description(f\"Epoch[{epoch+1}/{EPOCHS}]\")\n",
    "            \n",
    "            pred_class = torch.sigmoid(pred).round()\n",
    "            true_answer += (pred_class.squeeze() == targets).sum().item()\n",
    "\n",
    "        mean_train_loss = sum(running_train_loss) / len(running_train_loss)\n",
    "        running_train_acc = true_answer / len(train_subset)\n",
    "        train_loss.append(mean_train_loss)\n",
    "        train_acc.append(running_train_acc)\n",
    "        \n",
    "        model.eval()\n",
    "        # проход по валидационным данным и подсчет метрик\n",
    "        with torch.no_grad():\n",
    "            running_val_loss = []\n",
    "            true_answer = 0\n",
    "            \n",
    "            for x, targets in val_loader:\n",
    "                x, targets = x.to(dtype=torch.float32), targets.to(dtype=torch.float32)\n",
    "                pred = model(x)\n",
    "                loss = loss_model(pred.squeeze(), targets)\n",
    "                running_val_loss.append(loss.item())\n",
    "                \n",
    "                pred_class = torch.sigmoid(pred).round()\n",
    "                true_answer += (pred_class.squeeze() == targets).sum().item()\n",
    "\n",
    "            mean_val_loss = sum(running_val_loss) / len(running_val_loss)\n",
    "            running_val_acc = true_answer / len(val_subset)\n",
    "            val_loss.append(mean_val_loss)\n",
    "            val_acc.append(running_val_acc)\n",
    "\n",
    "        lr_scheduler.step(mean_val_loss)\n",
    "        lr = lr_scheduler._last_lr[0]\n",
    "        print(f\"Epoch[{epoch+1}/{EPOCHS}] train_loss={mean_train_loss:.4f} train_acc={running_train_acc:.4f} val_loss={mean_val_loss:.4f} val_acc={running_val_acc:.4f} lr={lr:.4f}\")\n"
   ]
  },
  {
   "cell_type": "code",
   "execution_count": 95,
   "id": "9f07ac39-746f-4e7a-b3a2-e9a9239d60e8",
   "metadata": {},
   "outputs": [
    {
     "data": {
      "image/png": "[encoded data removed]",
      "text/plain": [
       "<Figure size 1000x500 with 1 Axes>"
      ]
     },
     "metadata": {},
     "output_type": "display_data"
    }
   ],
   "source": [
    "#смотрим на графики чтобы не было расхождения(переобучения)\n",
    "import matplotlib.pyplot as plt\n",
    "\n",
    "plt.figure(figsize=(10, 5))\n",
    "\n",
    "plt.plot(train_loss, label='loss_train', color='blue', linestyle='-', marker='o')\n",
    "plt.plot(val_loss, label='loss_val', color='orange', linestyle='-', marker='o')\n",
    "\n",
    "plt.title('Loss over Time')\n",
    "plt.xlabel('Epochs')\n",
    "plt.ylabel('Loss')\n",
    "plt.legend(title='Legend')\n",
    "plt.grid()\n",
    "\n",
    "# Показать график\n",
    "plt.show()"
   ]
  },
  {
   "cell_type": "code",
   "execution_count": 97,
   "id": "36a54978-4e73-411d-a991-9ad4e9a4e053",
   "metadata": {},
   "outputs": [
    {
     "data": {
      "image/png": "[encoded data removed]",
      "text/plain": [
       "<Figure size 1000x500 with 1 Axes>"
      ]
     },
     "metadata": {},
     "output_type": "display_data"
    }
   ],
   "source": [
    "import matplotlib.pyplot as plt\n",
    "\n",
    "plt.figure(figsize=(10, 5))\n",
    "\n",
    "plt.plot(train_acc, label='train_acc', color='blue', linestyle='-', marker='o')\n",
    "plt.plot(val_acc, label='val_acc', color='orange', linestyle='-', marker='o')\n",
    "\n",
    "plt.title('Accuracy over Time')\n",
    "plt.xlabel('Epochs')\n",
    "plt.ylabel('Accuracy')\n",
    "plt.legend(title='Legend')\n",
    "plt.grid()\n",
    "\n",
    "plt.show()"
   ]
  },
  {
   "cell_type": "code",
   "execution_count": 99,
   "id": "85abb2e7-5f77-470d-9d14-ad8836a0abb9",
   "metadata": {},
   "outputs": [],
   "source": [
    "test_data = TextEmbeddingDataset(X_test, y_test)\n",
    "test_loader = DataLoader(test_data, batch_size=256,shuffle=False)"
   ]
  },
  {
   "cell_type": "code",
   "execution_count": 101,
   "id": "a42e782c-c068-4707-9acc-a0bfa968a4bc",
   "metadata": {},
   "outputs": [
    {
     "name": "stdout",
     "output_type": "stream",
     "text": [
      "Accuracy: 0.9893\n",
      "Precision: 0.9711\n",
      "Recall: 0.9550\n",
      "F1 Score: 0.9630\n"
     ]
    }
   ],
   "source": [
    "#тут мы получили самые высокие метрики\n",
    "from sklearn.metrics import precision_score, recall_score, f1_score, accuracy_score\n",
    "\n",
    "def evaluate_model(model, dataloader):\n",
    "    all_preds = []\n",
    "    all_labels = []\n",
    "    model.eval() \n",
    "    with torch.no_grad():\n",
    "        for batch_embeddings, batch_labels in dataloader:\n",
    "            outputs = model(batch_embeddings)\n",
    "            preds = torch.sigmoid(outputs).squeeze().numpy()  \n",
    "            all_preds.extend(preds)\n",
    "            all_labels.extend(batch_labels.numpy())\n",
    "    \n",
    "    return all_preds, all_labels\n",
    "\n",
    "preds, true_labels = evaluate_model(model, test_loader)\n",
    "\n",
    "# Преобразование предсказаний в бинарный формат\n",
    "preds = [1 if p > 0.5 else 0 for p in preds] \n",
    "\n",
    "accuracy = accuracy_score(true_labels, preds)\n",
    "precision = precision_score(true_labels, preds)\n",
    "recall = recall_score(true_labels, preds)\n",
    "f1 = f1_score(true_labels, preds)\n",
    "\n",
    "print(f\"Accuracy: {accuracy:.4f}\")\n",
    "print(f\"Precision: {precision:.4f}\")\n",
    "print(f\"Recall: {recall:.4f}\")\n",
    "print(f\"F1 Score: {f1:.4f}\")"
   ]
  },
  {
   "cell_type": "code",
   "execution_count": 103,
   "id": "740ba391-f141-4b33-a9f0-f33cbef47a11",
   "metadata": {},
   "outputs": [],
   "source": [
    "# Сохранение всей модели (включая архитектуру)\n",
    "torch.save(model, 'model.pth')"
   ]
  },
  {
   "cell_type": "code",
   "execution_count": null,
   "id": "c1d484d4-b1e4-43ed-85e8-756a325f5747",
   "metadata": {},
   "outputs": [],
   "source": []
  }
 ],
 "metadata": {
  "kernelspec": {
   "display_name": "Python (myenv)",
   "language": "python",
   "name": "myenv"
  },
  "language_info": {
   "codemirror_mode": {
    "name": "ipython",
    "version": 3
   },
   "file_extension": ".py",
   "mimetype": "text/x-python",
   "name": "python",
   "nbconvert_exporter": "python",
   "pygments_lexer": "ipython3",
   "version": "3.8.10"
  }
 },
 "nbformat": 4,
 "nbformat_minor": 5
}
